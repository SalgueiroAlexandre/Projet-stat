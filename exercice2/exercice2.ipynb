{
 "cells": [
  {
   "cell_type": "markdown",
   "id": "2be8280c12cfb8cd",
   "metadata": {},
   "source": [
    "# Exercice 2\n",
    "## Contexte\n",
    "Ici le but est de trouver un modèle de prédiction pour la réaction d'un traitement sur des patients atteints de cancer du sein. La variable à prédire est `treat-ment_response` en utilisant tout d'abord les données liée aux caractéristiques génétiques."
   ]
  },
  {
   "cell_type": "code",
   "execution_count": 2,
   "id": "initial_id",
   "metadata": {
    "ExecuteTime": {
     "end_time": "2024-12-23T15:51:45.763538Z",
     "start_time": "2024-12-23T15:51:43.943320Z"
    },
    "collapsed": true
   },
   "outputs": [
    {
     "name": "stdout",
     "output_type": "stream",
     "text": [
      "(22298, 279)\n",
      "(279, 22298)\n",
      "Index(['Sample_title', 'tissue', 'age', 'ethnicity', 'treatment_response',\n",
      "       'T (tumor)', 'N (Node)', 'bmn_grade', 'PR_status: ', 'ER_status: ',\n",
      "       ...\n",
      "       'AFFX-r2-Hs28SrRNA-5_at', 'AFFX-r2-Hs28SrRNA-M_at',\n",
      "       'AFFX-r2-P1-cre-3_at', 'AFFX-r2-P1-cre-5_at', 'AFFX-ThrX-3_at',\n",
      "       'AFFX-ThrX-5_at', 'AFFX-ThrX-M_at', 'AFFX-TrpnX-3_at',\n",
      "       'AFFX-TrpnX-5_at', 'AFFX-TrpnX-M_at'],\n",
      "      dtype='object', name='Sample_geo_accession', length=22298)\n",
      "Index(['treatment_response', 'T (tumor)', 'N (Node)', 'bmn_grade',\n",
      "       'PR_status: ', 'ER_status: ', 'her2_status', '1007_s_at', '1053_at',\n",
      "       '117_at',\n",
      "       ...\n",
      "       'AFFX-r2-Hs28SrRNA-5_at', 'AFFX-r2-Hs28SrRNA-M_at',\n",
      "       'AFFX-r2-P1-cre-3_at', 'AFFX-r2-P1-cre-5_at', 'AFFX-ThrX-3_at',\n",
      "       'AFFX-ThrX-5_at', 'AFFX-ThrX-M_at', 'AFFX-TrpnX-3_at',\n",
      "       'AFFX-TrpnX-5_at', 'AFFX-TrpnX-M_at'],\n",
      "      dtype='object', name='Sample_geo_accession', length=22290)\n"
     ]
    },
    {
     "name": "stderr",
     "output_type": "stream",
     "text": [
      "C:\\Users\\alexa\\AppData\\Local\\Temp\\ipykernel_18756\\526527239.py:4: DtypeWarning: Columns (1,2,3,4,5,6,7,8,9,10,11,12,13,14,15,16,17,18,19,20,21,22,23,24,25,26,27,28,29,30,31,32,33,34,35,36,37,38,39,40,41,42,43,44,45,46,47,48,49,50,51,52,53,54,55,56,57,58,59,60,61,62,63,64,65,66,67,68,69,70,71,72,73,74,75,76,77,78,79,80,81,82,83,84,85,86,87,88,89,90,91,92,93,94,95,96,97,98,99,100,101,102,103,104,105,106,107,108,109,110,111,112,113,114,115,116,117,118,119,120,121,122,123,124,125,126,127,128,129,130,131,132,133,134,135,136,137,138,139,140,141,142,143,144,145,146,147,148,149,150,151,152,153,154,155,156,157,158,159,160,161,162,163,164,165,166,167,168,169,170,171,172,173,174,175,176,177,178,179,180,181,182,183,184,185,186,187,188,189,190,191,192,193,194,195,196,197,198,199,200,201,202,203,204,205,206,207,208,209,210,211,212,213,214,215,216,217,218,219,220,221,222,223,224,225,226,227,228,229,230,231,232,233,234,235,236,237,238,239,240,241,242,243,244,245,246,247,248,249,250,251,252,253,254,255,256,257,258,259,260,261,262,263,264,265,266,267,268,269,270,271,272,273,274,275,276,277,278) have mixed types. Specify dtype option on import or set low_memory=False.\n",
      "  df = pd.read_csv('GSE16716-BreastCancers.csv')\n"
     ]
    }
   ],
   "source": [
    "import pandas as pd\n",
    "import numpy as np\n",
    "\n",
    "df = pd.read_csv('GSE16716-BreastCancers.csv')\n",
    "print(df.shape)\n",
    "# inversé les colonnes et les lignes\n",
    "df = df.T\n",
    "print(df.shape)\n",
    "# récuperer les noms des colonnes\n",
    "df.columns = df.iloc[0]\n",
    "print(df.columns)\n",
    "# supprimer la première ligne\n",
    "df = df[1:]\n",
    "# on garde les données qui nous intéressent\n",
    "colonne_a_supprimer = ['Sample_title', 'tissue', 'age', 'ethnicity','histology','treatment code','MAQC_Distribution_Status','ID_REF']\n",
    "df = df.drop(colonne_a_supprimer, axis=1)\n",
    "df = df.reset_index(drop=True)\n",
    "print(df.columns)"
   ]
  },
  {
   "cell_type": "markdown",
   "id": "d4e482803b5825af",
   "metadata": {},
   "source": [
    "## Nettoyage des données\n",
    "On va commencer par donner le bon type à nos variables, toutes nos variables génétiques sont des float, on va donc les convertir en float et on va vérifier s'il y a des valeurs manquantes, pour nos autres variables on va les convertir en variables catégorielles.\n"
   ]
  },
  {
   "cell_type": "code",
   "execution_count": 7,
   "id": "45e39696b716d185",
   "metadata": {
    "ExecuteTime": {
     "end_time": "2024-12-23T15:51:58.075525Z",
     "start_time": "2024-12-23T15:51:45.907908Z"
    }
   },
   "outputs": [
    {
     "name": "stdout",
     "output_type": "stream",
     "text": [
      "valeur manquante :  Sample_geo_accession\n",
      "bmn_grade    13\n",
      "dtype: int64\n",
      "valeur cible bmn_grade\n",
      "3.0    148\n",
      "2.0    104\n",
      "1.0     13\n",
      "Name: count, dtype: int64\n"
     ]
    }
   ],
   "source": [
    "non_numeric_cols = ['treatment_response', 'PR_status: ', 'ER_status: ', 'her2_status','T (tumor)', 'N (Node)']\n",
    "# Colonnes à convertir\n",
    "numeric_cols = [col for col in df.columns if col not in non_numeric_cols]\n",
    "\n",
    "# Conversion en float\n",
    "df[numeric_cols] = df[numeric_cols].apply(pd.to_numeric, errors='coerce')\n",
    "\n",
    "# Valeurs manquantes dans les colonnes converties\n",
    "missing_values = df[numeric_cols].isnull().sum()\n",
    "print(\"valeur manquante : \",missing_values[missing_values > 0])\n",
    "print(\"valeur cible\",df['bmn_grade'].value_counts())\n"
   ]
  },
  {
   "cell_type": "markdown",
   "id": "f017c0e511e795c0",
   "metadata": {},
   "source": [
    "On peut voir qu'il n'y a que la variable `bmn_grade` qui a des valeurs manquante, mais cette variable semble être catégorielle on va donc remplacer les valeurs manquantes par la valeur la plus fréquente. Pour nos autres variabels non numériques on va les convertir en variables catégorielles."
   ]
  },
  {
   "cell_type": "code",
   "execution_count": 8,
   "id": "19db68f93579f355",
   "metadata": {
    "ExecuteTime": {
     "end_time": "2024-12-23T15:52:00.616154Z",
     "start_time": "2024-12-23T15:51:58.126307Z"
    }
   },
   "outputs": [
    {
     "name": "stdout",
     "output_type": "stream",
     "text": [
      "bmn_grade\n",
      "3.0    161\n",
      "2.0    104\n",
      "1.0     13\n",
      "Name: count, dtype: int64\n",
      "treatment_response\n",
      "RD                213\n",
      "pCR                55\n",
      "pr_status: N        6\n",
      "pr_status: P        3\n",
      "her2 status: N      1\n",
      "Name: count, dtype: int64\n",
      "-------------------\n",
      "PR_status: \n",
      "N               150\n",
      "P               118\n",
      "tbefore: 3        8\n",
      "nbefore: 2        1\n",
      "her2 ihc: NA      1\n",
      "Name: count, dtype: int64\n",
      "-------------------\n",
      "ER_status: \n",
      "P                 161\n",
      "N                 107\n",
      "pcr_vs_rd: RD       8\n",
      "pr_status: N        1\n",
      "pcr_vs_rd: pCR      1\n",
      "Name: count, dtype: int64\n",
      "-------------------\n",
      "her2_status\n",
      "N                        203\n",
      "P                         55\n",
      "her2 ihc: 0                3\n",
      "her2 ihc: NEG              2\n",
      "histology: IDC             2\n",
      "treatment code: TXFAC      2\n",
      "histology: ILC             2\n",
      "her2 ihc: ND               1\n",
      "her2 fish: 3               1\n",
      "her2 fish: 1.5             1\n",
      "her2 fish: 1.06            1\n",
      "her2 ihc: 3                1\n",
      "her2 ihc: 2                1\n",
      "her2 fish: 1.9             1\n",
      "Name: count, dtype: int64\n",
      "-------------------\n",
      "T (tumor)\n",
      "2                     147\n",
      "4                      53\n",
      "3                      42\n",
      "1                      23\n",
      "0                       3\n",
      "nbefore: 0              3\n",
      "nbefore: 1              3\n",
      "nbefore: 2              2\n",
      "her2 status: P          1\n",
      "treatment code: NA      1\n",
      "Name: count, dtype: int64\n",
      "-------------------\n",
      "N (Node)\n",
      "1                 122\n",
      "0                  76\n",
      "3                  42\n",
      "2                  28\n",
      "her2 status: N      5\n",
      "bmngrd: 3           2\n",
      "her2 ihc: 2+        1\n",
      "her2 status: P      1\n",
      "Name: count, dtype: int64\n",
      "-------------------\n",
      "-----VERIFICATION DES VALEURS-----\n",
      "treatment_response\n",
      "RD     213\n",
      "pCR     55\n",
      "Name: count, dtype: int64\n",
      "-------------------\n",
      "PR_status: \n",
      "N    150\n",
      "P    118\n",
      "Name: count, dtype: int64\n",
      "-------------------\n",
      "ER_status: \n",
      "P    161\n",
      "N    107\n",
      "Name: count, dtype: int64\n",
      "-------------------\n",
      "her2_status\n",
      "N    203\n",
      "P     55\n",
      "Name: count, dtype: int64\n",
      "-------------------\n",
      "T (tumor)\n",
      "2    147\n",
      "4     53\n",
      "3     42\n",
      "1     23\n",
      "0      3\n",
      "Name: count, dtype: int64\n",
      "-------------------\n",
      "N (Node)\n",
      "1    122\n",
      "0     76\n",
      "3     42\n",
      "2     28\n",
      "Name: count, dtype: int64\n",
      "-------------------\n",
      "   bmn_grade  1007_s_at  1053_at  117_at   121_at  1255_g_at  1294_at  \\\n",
      "0        2.0    12.4440   8.3774  6.7866  10.2851     5.9064   8.3767   \n",
      "1        2.0    12.2005   7.8592  8.0963  10.4624     4.9582   9.2973   \n",
      "2        2.0    12.6709   8.6762  7.4812  10.1887     5.2332   9.1721   \n",
      "3        2.0    11.6619   8.2557  7.9923  10.7705     6.3296   9.3777   \n",
      "4        3.0    11.8397   8.7971  7.8321  10.2869     5.8389   7.0841   \n",
      "\n",
      "   1316_at  1320_at  1405_i_at  ...  ER_status: _P  her2_status_P  \\\n",
      "0   8.0356   6.6745     6.2325  ...           True          False   \n",
      "1   7.0581   6.4607     6.9047  ...           True          False   \n",
      "2   8.6061   7.0932     6.5940  ...           True           True   \n",
      "3   8.4776   6.5878     6.0877  ...           True          False   \n",
      "4   7.3419   7.3167     6.3456  ...          False          False   \n",
      "\n",
      "   T (tumor)_1  T (tumor)_2  T (tumor)_3  T (tumor)_4  N (Node)_1  N (Node)_2  \\\n",
      "0        False         True        False        False       False       False   \n",
      "1        False         True        False        False        True       False   \n",
      "2        False        False        False         True        True       False   \n",
      "3        False         True        False        False        True       False   \n",
      "4        False         True        False        False       False       False   \n",
      "\n",
      "   N (Node)_3  y  \n",
      "0       False  0  \n",
      "1       False  0  \n",
      "2       False  0  \n",
      "3       False  0  \n",
      "4       False  0  \n",
      "\n",
      "[5 rows x 22295 columns]\n"
     ]
    }
   ],
   "source": [
    "from sklearn.preprocessing import LabelEncoder\n",
    "\n",
    "# Remplacement des valeurs manquantes par la valeur la plus fréquente\n",
    "df['bmn_grade'] = df['bmn_grade'].fillna(df['bmn_grade'].mode()[0])\n",
    "print(df['bmn_grade'].value_counts())\n",
    "# Conversion des variables catégorielles en vecteur one hot\n",
    "for col in non_numeric_cols:\n",
    "    print(df[col].value_counts())\n",
    "    print('-------------------')\n",
    "\n",
    "# On remarque qu'il y a quelque valeurs mal transformées, on va les supprimer\n",
    "# Remplacer les valeurs incorrectes pour `treatment_response`\n",
    "df = df[df['treatment_response'].isin(['RD', 'pCR'])]\n",
    "\n",
    "# Nettoyer `PR_status`\n",
    "df['PR_status: '] = df['PR_status: '].replace({\n",
    "    'tbefore: 3': None,\n",
    "    'nbefore: 2': None,\n",
    "    'her2 ihc: NA': None\n",
    "}).dropna()\n",
    "\n",
    "# Nettoyer `ER_status`\n",
    "df['ER_status: '] = df['ER_status: '].replace({\n",
    "    'pcr_vs_rd: RD': None,\n",
    "    'pr_status: N': None,\n",
    "    'pcr_vs_rd: pCR': None\n",
    "}).dropna()\n",
    "\n",
    "# Nettoyer `her2_status`\n",
    "df['her2_status'] = df['her2_status'].replace({\n",
    "    'her2 ihc: 0': None,\n",
    "    'her2 ihc: NEG': None,\n",
    "    'histology: IDC': None,\n",
    "    'histology: ILC': None,\n",
    "    'treatment code: TXFAC': None,\n",
    "    'her2 ihc: ND': None,\n",
    "    'her2 fish: 3': None,\n",
    "    'her2 fish: 1.5': None,\n",
    "    'her2 fish: 1.06': None,\n",
    "    'her2 ihc: 3': None,\n",
    "    'her2 ihc: 2': None,\n",
    "    'her2 fish: 1.9': None\n",
    "}).dropna()\n",
    "\n",
    "# Nettoyer `T (tumor)`\n",
    "df['T (tumor)'] = df['T (tumor)'].replace({\n",
    "    'nbefore: 0': None,\n",
    "    'nbefore: 1': None,\n",
    "    'nbefore: 2': None,\n",
    "    'her2 status: P': None,\n",
    "    'treatment code: NA': None\n",
    "}).dropna()\n",
    "\n",
    "# Nettoyer `N (Node)`\n",
    "df['N (Node)'] = df['N (Node)'].replace({\n",
    "    'her2 status: N': None,\n",
    "    'bmngrd: 3': None,\n",
    "    'her2 ihc: 2+': None,\n",
    "    'her2 status: P': None\n",
    "}).dropna()\n",
    "# On re vérifie les valeurs\n",
    "print(\"-----VERIFICATION DES VALEURS-----\")\n",
    "for col in non_numeric_cols:\n",
    "    print(df[col].value_counts())\n",
    "    print('-------------------')\n",
    "\n",
    "# Encodage de la variable cible\n",
    "label_encoder = LabelEncoder()\n",
    "y = label_encoder.fit_transform(df['treatment_response'])\n",
    "# Supprimer la cible des données\n",
    "df = df.drop(columns=['treatment_response'])\n",
    "\n",
    "# Liste des colonnes catégorielles sans la cible\n",
    "categorical_cols = [col for col in non_numeric_cols if col != 'treatment_response']\n",
    "\n",
    "# Transformation en indicateurs\n",
    "df = pd.get_dummies(df, columns=categorical_cols, drop_first=True)\n",
    "# Concaténation de la cible\n",
    "df['y'] = y\n",
    "print(df.head())"
   ]
  },
  {
   "cell_type": "markdown",
   "id": "2622ed2c31e12656",
   "metadata": {},
   "source": [
    "Maintenant que le nettoyage des données est fait on va pouvoir commencer à faire des analyses sur nos données."
   ]
  },
  {
   "cell_type": "code",
   "execution_count": 9,
   "id": "b5d7e15196040c67",
   "metadata": {
    "ExecuteTime": {
     "end_time": "2024-12-23T15:52:00.887505Z",
     "start_time": "2024-12-23T15:52:00.744932Z"
    }
   },
   "outputs": [
    {
     "data": {
      "image/png": "[encoded data removed]",
      "text/plain": [
       "<Figure size 640x480 with 1 Axes>"
      ]
     },
     "metadata": {},
     "output_type": "display_data"
    },
    {
     "name": "stdout",
     "output_type": "stream",
     "text": [
      "Top 10 des variables les plus corrélées avec la cible :\n",
      "y              1.000000\n",
      "204822_at      0.368178\n",
      "204825_at      0.352977\n",
      "213134_x_at    0.352175\n",
      "201555_at      0.350905\n",
      "203693_s_at    0.346549\n",
      "205548_s_at    0.343258\n",
      "221253_s_at    0.336383\n",
      "206392_s_at    0.333784\n",
      "206391_at      0.330762\n",
      "Name: y, dtype: float64\n"
     ]
    }
   ],
   "source": [
    "import matplotlib.pyplot as plt\n",
    "\n",
    "# Distribution de la variable cible\n",
    "df['y'].value_counts().plot(kind='bar')\n",
    "plt.title('Répartition de la variable cible : treatment_response')\n",
    "plt.xlabel('Classes')\n",
    "plt.ylabel('Nombre d\\'individus')\n",
    "plt.show()\n",
    "\n",
    "import seaborn as sns\n",
    "\n",
    "# Matrice de corrélation\n",
    "correlation_matrix = df.corr()\n",
    "# Corrélation avec la cible\n",
    "target_corr = correlation_matrix['y'].sort_values(ascending=False)\n",
    "print(\"Top 10 des variables les plus corrélées avec la cible :\")\n",
    "print(target_corr.head(10))"
   ]
  },
  {
   "cell_type": "markdown",
   "id": "bd421a15c07546df",
   "metadata": {},
   "source": [
    "Globalement on peut voir que les variables ne sont pas très corrélées avec la variable cible, on va donc essayer de faire une réduction de dimension pour voir si on peut avoir de meilleurs résultats."
   ]
  },
  {
   "cell_type": "code",
   "execution_count": 10,
   "id": "9cea71c58b42ee4d",
   "metadata": {
    "ExecuteTime": {
     "end_time": "2024-12-23T15:52:04.122364Z",
     "start_time": "2024-12-23T15:52:01.002393Z"
    }
   },
   "outputs": [
    {
     "data": {
      "image/png": "[encoded data removed]",
      "text/plain": [
       "<Figure size 640x480 with 1 Axes>"
      ]
     },
     "metadata": {},
     "output_type": "display_data"
    },
    {
     "data": {
      "image/png": "[encoded data removed]",
      "text/plain": [
       "<Figure size 640x480 with 1 Axes>"
      ]
     },
     "metadata": {},
     "output_type": "display_data"
    }
   ],
   "source": [
    "from sklearn.decomposition import PCA\n",
    "from sklearn.preprocessing import StandardScaler\n",
    "\n",
    "# Séparation des données\n",
    "X = df.drop(columns=['y'])\n",
    "y = df['y']\n",
    "\n",
    "# Standardisation des données\n",
    "scaler = StandardScaler()\n",
    "X_scaled = scaler.fit_transform(X)\n",
    "\n",
    "# Réduction de dimension\n",
    "pca = PCA(n_components=2)\n",
    "X_pca = pca.fit_transform(X_scaled)\n",
    "\n",
    "# Création d'un DataFrame pour la visualisation\n",
    "pca_df = pd.DataFrame(data=X_pca, columns=['PC1', 'PC2'])\n",
    "pca_df['y'] = y\n",
    "\n",
    "# Visualisation\n",
    "sns.scatterplot(x='PC1', y='PC2', hue='y', data=pca_df)\n",
    "plt.title('ACP des données')\n",
    "plt.show()\n",
    "\n",
    "# Fit PCA\n",
    "pca = PCA()\n",
    "pca.fit(X_scaled)\n",
    "\n",
    "# Calculate explained variance and cumulative variance\n",
    "explained_variance = pca.explained_variance_ratio_\n",
    "cumulative_variance = np.cumsum(explained_variance)\n",
    "\n",
    "# Plot cumulative variance\n",
    "plt.plot(range(1, len(cumulative_variance) + 1), cumulative_variance)\n",
    "plt.title('Variance expliquée cumulée')\n",
    "plt.xlabel('Nombre de composantes')\n",
    "plt.ylabel('Variance expliquée')\n",
    "plt.show()"
   ]
  },
  {
   "cell_type": "markdown",
   "id": "8bbd0ba7ce2eef3e",
   "metadata": {},
   "source": [
    "On va garder 95% de la variance expliquée, on va donc garder autour de 230 composantes."
   ]
  },
  {
   "cell_type": "code",
   "execution_count": 11,
   "id": "59a1bd628eb659cf",
   "metadata": {
    "ExecuteTime": {
     "end_time": "2024-12-23T15:52:06.351750Z",
     "start_time": "2024-12-23T15:52:04.759358Z"
    }
   },
   "outputs": [
    {
     "name": "stdout",
     "output_type": "stream",
     "text": [
      "(268, 230)\n"
     ]
    }
   ],
   "source": [
    "# garder 230 composantes\n",
    "pca = PCA(n_components=230)\n",
    "X_pca = pca.fit_transform(X_scaled)\n",
    "print(X_pca.shape)\n"
   ]
  },
  {
   "cell_type": "markdown",
   "id": "b5ab17e7f87bcb0d",
   "metadata": {},
   "source": [
    "## Modélisation\n",
    "On va maintenant essayer de trouver un modèle de prédiction pour notre variable cible, on va commencer par diviser nos données en données d'entraînement et données de test. Pour comparer nos modèles on va utiliser le F1 Score."
   ]
  },
  {
   "cell_type": "code",
   "execution_count": 11,
   "id": "83a3d2c0f7c0029c",
   "metadata": {
    "ExecuteTime": {
     "end_time": "2024-12-23T15:52:06.819010Z",
     "start_time": "2024-12-23T15:52:06.792068Z"
    }
   },
   "outputs": [],
   "source": [
    "from sklearn.model_selection import train_test_split\n",
    "\n",
    "X_train, X_test, y_train, y_test = train_test_split(X_pca, y, test_size=0.2, random_state=42)\n",
    "\n",
    "# dict pour stocker les résultats\n",
    "results = {}"
   ]
  },
  {
   "cell_type": "markdown",
   "id": "d7cc6107cc3870bb",
   "metadata": {},
   "source": [
    "### Régression logistique"
   ]
  },
  {
   "cell_type": "code",
   "execution_count": 12,
   "id": "67850f134d7060d4",
   "metadata": {
    "ExecuteTime": {
     "end_time": "2024-12-23T15:52:06.923737Z",
     "start_time": "2024-12-23T15:52:06.885925Z"
    }
   },
   "outputs": [
    {
     "name": "stdout",
     "output_type": "stream",
     "text": [
      "Régression logistique\n",
      "              precision    recall  f1-score   support\n",
      "\n",
      "           0       0.89      0.93      0.91        45\n",
      "           1       0.57      0.44      0.50         9\n",
      "\n",
      "    accuracy                           0.85        54\n",
      "   macro avg       0.73      0.69      0.71        54\n",
      "weighted avg       0.84      0.85      0.84        54\n",
      "\n",
      "F1 Score (macro) : 0.7065217391304348\n"
     ]
    }
   ],
   "source": [
    "from sklearn.linear_model import LogisticRegression\n",
    "from sklearn.metrics import classification_report, f1_score\n",
    "\n",
    "# Modèle\n",
    "log_model = LogisticRegression(random_state=42)\n",
    "log_model.fit(X_train, y_train)\n",
    "\n",
    "# Prédictions\n",
    "y_pred_log = log_model.predict(X_test)\n",
    "\n",
    "# Évaluation\n",
    "print(\"Régression logistique\")\n",
    "print(classification_report(y_test, y_pred_log))\n",
    "print(\"F1 Score (macro) :\", f1_score(y_test, y_pred_log, average='macro'))\n",
    "results['Logistic Regression'] = f1_score(y_test, y_pred_log, average='macro')"
   ]
  },
  {
   "cell_type": "markdown",
   "id": "3eb87c6845df01a0",
   "metadata": {},
   "source": [
    "### Random Forest"
   ]
  },
  {
   "cell_type": "code",
   "execution_count": 13,
   "id": "427ca0a96a35c713",
   "metadata": {
    "ExecuteTime": {
     "end_time": "2024-12-23T15:52:40.342857Z",
     "start_time": "2024-12-23T15:52:06.969085Z"
    }
   },
   "outputs": [
    {
     "name": "stdout",
     "output_type": "stream",
     "text": [
      "Meilleur modèle Random Forest : {'max_depth': 10, 'min_samples_leaf': 1, 'min_samples_split': 2, 'n_estimators': 100}\n",
      "F1 Score (macro) : 0.45454545454545453\n"
     ]
    }
   ],
   "source": [
    "from sklearn.ensemble import RandomForestClassifier\n",
    "from sklearn.model_selection import GridSearchCV\n",
    "from sklearn.metrics import make_scorer, f1_score\n",
    "\n",
    "# Définir la grille de paramètres\n",
    "param_grid_rf = {\n",
    "    'n_estimators': [100, 200, 300],\n",
    "    'max_depth': [10, 20, None],\n",
    "    'min_samples_split': [2, 5, 10],\n",
    "    'min_samples_leaf': [1, 2, 4]\n",
    "}\n",
    "\n",
    "# Initialiser le modèle\n",
    "rf = RandomForestClassifier(random_state=42)\n",
    "\n",
    "# Utiliser F1 Score (macro) comme métrique de scoring\n",
    "scorer = make_scorer(f1_score, average='macro')\n",
    "\n",
    "# Recherche par grille\n",
    "grid_search_rf = GridSearchCV(estimator=rf, param_grid=param_grid_rf, scoring=scorer, cv=5, verbose=0, n_jobs=-1)\n",
    "grid_search_rf.fit(X_train, y_train)\n",
    "\n",
    "# Meilleur modèle\n",
    "best_rf = grid_search_rf.best_estimator_\n",
    "\n",
    "# Évaluation sur le jeu de test\n",
    "y_pred_rf = best_rf.predict(X_test)\n",
    "print(\"Meilleur modèle Random Forest :\", grid_search_rf.best_params_)\n",
    "print(\"F1 Score (macro) :\", f1_score(y_test, y_pred_rf, average='macro'))\n",
    "results['Random Forest'] = f1_score(y_test, y_pred_rf, average='macro')"
   ]
  },
  {
   "cell_type": "markdown",
   "id": "4c3c371ce3a85de7",
   "metadata": {},
   "source": [
    "### SVM"
   ]
  },
  {
   "cell_type": "code",
   "execution_count": 14,
   "id": "4152fb8e0847ad8d",
   "metadata": {
    "ExecuteTime": {
     "end_time": "2024-12-23T15:52:40.562680Z",
     "start_time": "2024-12-23T15:52:40.403930Z"
    }
   },
   "outputs": [
    {
     "name": "stdout",
     "output_type": "stream",
     "text": [
      "Meilleur modèle SVM : {'C': 1, 'kernel': 'sigmoid'}\n",
      "F1 Score (macro) : 0.7137349397590362\n"
     ]
    }
   ],
   "source": [
    "from sklearn.svm import SVC\n",
    "\n",
    "# Définir la grille de paramètres\n",
    "param_grid_svm = {\n",
    "    'C': [0.1, 1, 10, 100],\n",
    "    'kernel': ['linear', 'rbf', 'poly', 'sigmoid'],\n",
    "}\n",
    "\n",
    "# Initialiser le modèle\n",
    "svm = SVC(class_weight='balanced', random_state=42)\n",
    "\n",
    "# Recherche par grille\n",
    "grid_search_svm = GridSearchCV(estimator=svm, param_grid=param_grid_svm, scoring=scorer, cv=5, verbose=0, n_jobs=-1)\n",
    "grid_search_svm.fit(X_train, y_train)\n",
    "\n",
    "# Meilleur modèle\n",
    "best_svm = grid_search_svm.best_estimator_\n",
    "\n",
    "# Évaluation sur le jeu de test\n",
    "y_pred_svm = best_svm.predict(X_test)\n",
    "print(\"Meilleur modèle SVM :\", grid_search_svm.best_params_)\n",
    "print(\"F1 Score (macro) :\", f1_score(y_test, y_pred_svm, average='macro'))\n",
    "results['SVM'] = f1_score(y_test, y_pred_svm, average='macro')"
   ]
  },
  {
   "cell_type": "markdown",
   "id": "8fd44168f10811b2",
   "metadata": {},
   "source": [
    "### KNN"
   ]
  },
  {
   "cell_type": "code",
   "execution_count": 15,
   "id": "8b5ac590e8ecbdb3",
   "metadata": {
    "ExecuteTime": {
     "end_time": "2024-12-23T15:52:40.753865Z",
     "start_time": "2024-12-23T15:52:40.596060Z"
    }
   },
   "outputs": [
    {
     "name": "stdout",
     "output_type": "stream",
     "text": [
      "Meilleur modèle KNN : {'metric': 'minkowski', 'n_neighbors': 5, 'weights': 'uniform'}\n",
      "F1 Score (macro) : 0.45454545454545453\n"
     ]
    }
   ],
   "source": [
    "from sklearn.neighbors import KNeighborsClassifier\n",
    "\n",
    "# Définir la grille de paramètres\n",
    "param_grid_knn = {\n",
    "    'n_neighbors': [3, 5, 10, 20],\n",
    "    'weights': ['uniform', 'distance'],\n",
    "    'metric': ['minkowski', 'euclidean']\n",
    "}\n",
    "\n",
    "# Initialiser le modèle\n",
    "knn = KNeighborsClassifier()\n",
    "\n",
    "# Recherche par grille\n",
    "grid_search_knn = GridSearchCV(estimator=knn, param_grid=param_grid_knn, scoring=scorer, cv=5, verbose=0, n_jobs=-1)\n",
    "grid_search_knn.fit(X_train, y_train)\n",
    "\n",
    "# Meilleur modèle\n",
    "best_knn = grid_search_knn.best_estimator_\n",
    "\n",
    "# Évaluation sur le jeu de test\n",
    "y_pred_knn = best_knn.predict(X_test)\n",
    "print(\"Meilleur modèle KNN :\", grid_search_knn.best_params_)\n",
    "print(\"F1 Score (macro) :\", f1_score(y_test, y_pred_knn, average='macro'))"
   ]
  },
  {
   "cell_type": "markdown",
   "id": "f00e058e9811d691",
   "metadata": {},
   "source": [
    "### Gradient Boosting\n"
   ]
  },
  {
   "cell_type": "code",
   "execution_count": 16,
   "id": "c6940d65f55036f3",
   "metadata": {
    "ExecuteTime": {
     "start_time": "2024-12-23T15:52:40.789630Z"
    },
    "jupyter": {
     "is_executing": true
    }
   },
   "outputs": [
    {
     "name": "stdout",
     "output_type": "stream",
     "text": [
      "Meilleurs paramètres pour Gradient Boosting : {'learning_rate': 0.2, 'max_depth': 3, 'min_samples_leaf': 2, 'min_samples_split': 10, 'n_estimators': 300}\n",
      "F1 Score (macro) : 0.425531914893617\n"
     ]
    }
   ],
   "source": [
    "from sklearn.ensemble import GradientBoostingClassifier\n",
    "\n",
    "# Définir la grille de paramètres\n",
    "param_grid_gb = {\n",
    "    'n_estimators': [100, 200, 300],         # Nombre d'arbres\n",
    "    'learning_rate': [0.01, 0.1, 0.2],      # Taux d'apprentissage\n",
    "    'max_depth': [3, 5, 10],                # Profondeur maximale des arbres\n",
    "    'min_samples_split': [2, 5, 10],        # Nombre minimum d'échantillons pour diviser un nœud\n",
    "    'min_samples_leaf': [1, 2, 4]           # Nombre minimum d’échantillons dans une feuille\n",
    "}\n",
    "\n",
    "# Initialiser le modèle\n",
    "gb = GradientBoostingClassifier(random_state=42)\n",
    "\n",
    "# Recherche par grille\n",
    "grid_search_gb = GridSearchCV(estimator=gb, param_grid=param_grid_gb, scoring=scorer, cv=5, verbose=0, n_jobs=-1)\n",
    "grid_search_gb.fit(X_train, y_train)\n",
    "\n",
    "# Meilleur modèle et paramètres\n",
    "best_gb = grid_search_gb.best_estimator_\n",
    "print(\"Meilleurs paramètres pour Gradient Boosting :\", grid_search_gb.best_params_)\n",
    "\n",
    "# Évaluation sur le jeu de test\n",
    "y_pred_gb = best_gb.predict(X_test)\n",
    "print(\"F1 Score (macro) :\", f1_score(y_test, y_pred_gb, average='macro'))\n",
    "results['Gradient Boosting'] = f1_score(y_test, y_pred_gb, average='macro')"
   ]
  },
  {
   "cell_type": "markdown",
   "id": "3e68ed222a975394",
   "metadata": {},
   "source": [
    "### MLP Classifier"
   ]
  },
  {
   "cell_type": "code",
   "execution_count": 17,
   "id": "9903a73a2aa7b8c9",
   "metadata": {
    "ExecuteTime": {
     "end_time": "2024-12-23T15:46:46.993843Z",
     "start_time": "2024-12-23T15:46:41.956423Z"
    }
   },
   "outputs": [
    {
     "name": "stdout",
     "output_type": "stream",
     "text": [
      "Meilleur modèle MLP : {'activation': 'relu', 'alpha': 0.0001, 'hidden_layer_sizes': (100, 50), 'learning_rate': 'constant'}\n",
      "F1 Score (macro) : 0.6487285629804849\n"
     ]
    }
   ],
   "source": [
    "from sklearn.neural_network import MLPClassifier\n",
    "\n",
    "# Définir la grille de paramètres\n",
    "param_grid_mlp = {\n",
    "    'hidden_layer_sizes': [(50,), (100,), (100, 50)],\n",
    "    'activation': ['relu', 'tanh'],\n",
    "    'alpha': [0.0001, 0.001, 0.01],\n",
    "    'learning_rate': ['constant', 'adaptive']\n",
    "}\n",
    "\n",
    "# Initialiser le modèle\n",
    "mlp = MLPClassifier(max_iter=500, random_state=42)\n",
    "\n",
    "# Recherche par grille\n",
    "grid_search_mlp = GridSearchCV(estimator=mlp, param_grid=param_grid_mlp, scoring=scorer, cv=5, verbose=0, n_jobs=-1)\n",
    "grid_search_mlp.fit(X_train, y_train)\n",
    "\n",
    "# Meilleur modèle\n",
    "best_mlp = grid_search_mlp.best_estimator_\n",
    "\n",
    "# Évaluation sur le jeu de test\n",
    "y_pred_mlp = best_mlp.predict(X_test)\n",
    "print(\"Meilleur modèle MLP :\", grid_search_mlp.best_params_)\n",
    "print(\"F1 Score (macro) :\", f1_score(y_test, y_pred_mlp, average='macro'))\n",
    "results['MLP'] = f1_score(y_test, y_pred_mlp, average='macro')"
   ]
  },
  {
   "cell_type": "markdown",
   "id": "3b716d148f4c6181",
   "metadata": {},
   "source": [
    "## Comparaison des modèles"
   ]
  },
  {
   "cell_type": "code",
   "execution_count": 18,
   "id": "4d35da49925cba05",
   "metadata": {
    "ExecuteTime": {
     "end_time": "2024-12-23T15:47:30.916819Z",
     "start_time": "2024-12-23T15:47:30.756035Z"
    }
   },
   "outputs": [
    {
     "data": {
      "image/png": "[encoded data removed]",
      "text/plain": [
       "<Figure size 640x480 with 1 Axes>"
      ]
     },
     "metadata": {},
     "output_type": "display_data"
    }
   ],
   "source": [
    "# Comparaison des modèles\n",
    "results_df = pd.DataFrame(results.items(), columns=['Modèle', 'F1 Score'])\n",
    "results_df = results_df.sort_values('F1 Score', ascending=False)\n",
    "\n",
    "# Visualisation\n",
    "sns.barplot(x='F1 Score', y='Modèle', data=results_df)\n",
    "plt.title('Comparaison des modèles')\n",
    "plt.show()\n"
   ]
  },
  {
   "cell_type": "markdown",
   "id": "4ea5b296",
   "metadata": {},
   "source": [
    "Au final le modèle qui semble le mieux fonctionner est le SVM avec un F1 Score de 0.71."
   ]
  }
 ],
 "metadata": {
  "kernelspec": {
   "display_name": "stat",
   "language": "python",
   "name": "python3"
  },
  "language_info": {
   "codemirror_mode": {
    "name": "ipython",
    "version": 3
   },
   "file_extension": ".py",
   "mimetype": "text/x-python",
   "name": "python",
   "nbconvert_exporter": "python",
   "pygments_lexer": "ipython3",
   "version": "3.12.8"
  }
 },
 "nbformat": 4,
 "nbformat_minor": 5
}
